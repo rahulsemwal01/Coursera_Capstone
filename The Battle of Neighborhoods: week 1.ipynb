{
    "nbformat_minor": 1, 
    "cells": [
        {
            "source": "## Recommender System for Groceries Contractor", 
            "cell_type": "markdown", 
            "metadata": {
                "collapsed": true
            }
        }, 
        {
            "source": "### Problem Description", 
            "cell_type": "markdown", 
            "metadata": {}
        }, 
        {
            "source": "There is a groceries contractor in one of the boroughs of Toronto (Scarborough). This contractor provides places such as: Different types of Restaurants, Bakery, Breakfast Spot, Brewery and Caf\u00e9 with fresh and high-quality groceries. The contractor wants to build a warehouse for the groceries it buys from villagers and farmers inside the borough, so that they will support more customers and also bring better \"Quality of Service\" to the old customers.\nFor example, if the warehouse is close to those old and famous restaurants, then the vegetables and other groceries would be delivered to the restaurant in the right time and there would be no delay so the restaurant cooks can start their job from the morning and the Quality of Service will be high and this contractor will gain more reputation and income.\nThe contractor should build this warehouse where it is closest to its customers in order to minimize the cost of transpotation in addition to the example above. which neighborhood (in that borough) would be a better choice for the contractor to build the warehouse in that neighborhood. Finding the right neighborhood is our mission and our recommender system will provide this contractor with a sorted list of neighborhoods in which the first elemnt of the list will be the best suggested neighborhood.", 
            "cell_type": "markdown", 
            "metadata": {}
        }, 
        {
            "source": "### Data We Need", 
            "cell_type": "markdown", 
            "metadata": {}
        }, 
        {
            "source": "1- We will need geo-locational information about that specific borough and the neighborhoods in that borough. We specifically and technically mean the latitude and longitude numbers of that borough. We assume that it is \"Scarborough\" in Toronto. This is easily provided for us by the contractor, because the contractor has already made up his mind about the borough. The Postal Codes that fall into that borough (Scarborough) would also be sufficient fo us. I fact we will first find neighborhoods inside Scarborough by their corresponding Postal Codes.\n\n2- We will need data about different venues in different neighborhoods of that specific borough. In order to gain that information we will use \"Foursquare\" locational information. By locational information for each venue we mean basic and advanced information about that venue. For example there is a venue in one of the neighborhoods. As basic information, we can obtain its precise latitude and longitude and also its distance from the center of the neighborhood. But we are looking for advanced information such as the category of that venue and whether this venue is a popular one in its category or maybe the average price of the services of this venue. A typical request from Foursquare will provide us with the following information:\n\n[Postal Code] [Neighborhood(s)] [Neighborhood Latitude] [Neighborhood Longitude] [Venue] [Venue Summary] [Venue Category] [Distance (meter)]\n\n[M1L] [Clairlea, Golden Mile, Oakridge] [43.711112] [-79.284577] [Tim Hortons] [This spot is popular] [Coffee Shop] [592]", 
            "cell_type": "markdown", 
            "metadata": {}
        }, 
        {
            "source": "##### Some Notes about \"Foursquare\": https://foursquare.com/", 
            "cell_type": "markdown", 
            "metadata": {}
        }, 
        {
            "source": "Foursquare is a local search-and-discovery service mobile app which provides search results for its users (Wikipedia).\u00b6\n\nFounded: New York City, New York, U.S\n\nUsers: 60 million\n\nDate launched: March 11, 2009\n\nEmployees: Over 200\n\nFounders: Dennis Crowley, Naveen Selvadurai\n\nOwner: Foursquare Labs, Inc.", 
            "cell_type": "markdown", 
            "metadata": {}
        }, 
        {
            "source": "### Identifying Neighborhoods inside \"Scarborough\"", 
            "cell_type": "markdown", 
            "metadata": {}
        }, 
        {
            "source": "We will use Postal Codes of different regions inside Scarborough to find the list of neighborhoods. We will essentially obtain our information from https://en.wikipedia.org/wiki/List_of_postal_codes_of_Canada:_M and then process the table inside this site. Images from dataframes and also from maps will be provided in the presentation. Here we only present our strategy and how we got the mission accomplished.", 
            "cell_type": "markdown", 
            "metadata": {}
        }, 
        {
            "source": "### Connecting to Foursquare and Retrieving Locational Data for Each Venue in Every Neighborhood", 
            "cell_type": "markdown", 
            "metadata": {}
        }, 
        {
            "source": "After finding the list of neighborhoods, we then connect to the Foursquare API to gather information about venues inside each and every neighborhood. For each neighborhood, we have chosen the radius to be 1000 meter. It means that we have asked Foursquare to find venues that are at most 1000 meter far from the center of the neighborhood. (I think distance is measured by latitude and longitude of venues and neighborhoods, and it is not the walking distance for venues.)", 
            "cell_type": "markdown", 
            "metadata": {}
        }, 
        {
            "source": "### Processing the Retrieved Data and Creating a DataFrome for All the Venues inside the Scarborough", 
            "cell_type": "markdown", 
            "metadata": {}
        }, 
        {
            "source": "When the data is completely gathered, we will perform processing on that raw data to find our desirable features for each venue. Our main feature is the category of that venue. After this stage, the column \"Venue's Category\" wil be One-hot encoded and different venues will have different feature-columns. After On-hot encoding we will integrate all restaurant columns to one column \"Total Restaurants\" and all food joint columns to \"Total Joints\" column. We assumed that different resaturants use the Same raw groceries. This assumption is made for simplicity and due to not having a very detailed dataset about different venues.\n\nNow, the dataset is fully ready to be used for machine learning (and statistical analysis) purposes.", 
            "cell_type": "markdown", 
            "metadata": {}
        }, 
        {
            "source": "### Applying one of Machine Learning Techniques (K-Means Clustering)", 
            "cell_type": "markdown", 
            "metadata": {}
        }, 
        {
            "source": "Here we cluster neighborhoods via K-means clustering method. We think that 5 clusters is enough and can cover the complexity of our problem. After clustering we will update our dataset and create a column representing the group for each neighborhood.", 
            "cell_type": "markdown", 
            "metadata": {}
        }, 
        {
            "source": "### Decision Making and Reporting Results", 
            "cell_type": "markdown", 
            "metadata": {}
        }, 
        {
            "source": "Now, we focus on the centers of clusters and compare them for their \"Total Restaurants\" and their \"Total Joints\". The group which its center has the highest \"Total Sum\" will be our best recommendation to the contractor. {Note: Total Sum = Total Restaurants + Total Joints + Other Venues.} This algorithm although is pretty straightforward yet is strongly powerful.", 
            "cell_type": "markdown", 
            "metadata": {}
        }, 
        {
            "source": "### Results:", 
            "cell_type": "markdown", 
            "metadata": {}
        }, 
        {
            "source": "Based on this analysis, the best recommended neighborhood will be:\n\n{'Neighborhood': 'Agincourt',\n\n'Postal Code': 'M1S',\n\n'Neighborhood Latitude': 43.7942003,\n\n'Neighborhood Longitude': -79.26202940000002}", 
            "cell_type": "markdown", 
            "metadata": {}
        }
    ], 
    "metadata": {
        "kernelspec": {
            "display_name": "Python 3.5", 
            "name": "python3", 
            "language": "python"
        }, 
        "language_info": {
            "mimetype": "text/x-python", 
            "nbconvert_exporter": "python", 
            "version": "3.5.5", 
            "name": "python", 
            "file_extension": ".py", 
            "pygments_lexer": "ipython3", 
            "codemirror_mode": {
                "version": 3, 
                "name": "ipython"
            }
        }
    }, 
    "nbformat": 4
}