{
    "nbformat_minor": 1, 
    "cells": [
        {
            "source": "# importing libraries\nimport numpy as np # library to handle data in a vectorized manner\nimport pandas as pd # library for data analsysis\nfrom bs4 import BeautifulSoup\nimport requests # library to handle requests\nimport json # library to handle JSON files\nfrom pandas.io.json import json_normalize # tranform JSON file into a pandas dataframe\n\npd.set_option('display.max_columns', None)\npd.set_option('display.max_rows', None)\n\n!conda install -c conda-forge geopy --yes \nimport geopy.geocoders # convert an address into latitude and longitude values\n\n!conda install -c conda-forge folium=0.5.0 --yes\nimport folium # map rendering library\n\nprint('Libraries are imported.')", 
            "cell_type": "code", 
            "metadata": {
                "scrolled": false
            }, 
            "outputs": [
                {
                    "output_type": "stream", 
                    "name": "stdout", 
                    "text": "Fetching package metadata .............\nSolving package specifications: .\n\n# All requested packages already installed.\n# packages in environment at /opt/conda/envs/DSX-Python35:\n#\ngeopy                     1.18.1                     py_0    conda-forge\nFetching package metadata .............\nSolving package specifications: .\n\n# All requested packages already installed.\n# packages in environment at /opt/conda/envs/DSX-Python35:\n#\nfolium                    0.5.0                      py_0    conda-forge\nLibraries are imported.\n"
                }
            ], 
            "execution_count": 1
        }, 
        {
            "source": "wikipedia_link='https://en.wikipedia.org/wiki/List_of_postal_codes_of_Canada:_M'\nraw_wikipedia_page= requests.get(wikipedia_link).text\n\nsoup = BeautifulSoup(raw_wikipedia_page,'lxml')", 
            "cell_type": "code", 
            "metadata": {}, 
            "outputs": [], 
            "execution_count": 8
        }, 
        {
            "source": "table = soup.find('table')\n\nPostcode      = []\nBorough       = []\nNeighbourhood = []\n\n# print(table)\n\nfor tr_cell in table.find_all('tr'):\n    \n    counter = 1\n    Postcode_var      = -1\n    Borough_var       = -1\n    Neighbourhood_var = -1\n    \n    for td_cell in tr_cell.find_all('td'):\n        if counter == 1: \n            Postcode_var = td_cell.text\n        if counter == 2: \n            Borough_var = td_cell.text\n            tag_a_Borough = td_cell.find('a')\n            \n        if counter == 3: \n            Neighbourhood_var = str(td_cell.text).strip()\n            tag_a_Neighbourhood = td_cell.find('a')\n            \n        counter +=1\n        \n    if (Postcode_var == 'Not assigned' or Borough_var == 'Not assigned' or Neighbourhood_var == 'Not assigned'): \n        continue\n    try:\n        if ((tag_a_Borough is None) or (tag_a_Neighbourhood is None)):\n            continue\n    except:\n        pass\n    if(Postcode_var == -1 or Borough_var == -1 or Neighbourhood_var == -1):\n        continue\n        \n    Postcode.append(Postcode_var)\n    Borough.append(Borough_var)\n    Neighbourhood.append(Neighbourhood_var)", 
            "cell_type": "code", 
            "metadata": {}, 
            "outputs": [], 
            "execution_count": 9
        }, 
        {
            "source": "unique_p = set(Postcode)\n# print('num of unique Postal codes:', len(unique_p))\nPostcode_u      = []\nBorough_u       = []\nNeighbourhood_u = []\n\n\nfor postcode_unique_element in unique_p:\n    p_var = ''; b_var = ''; n_var = ''; \n    for postcode_idx, postcode_element in enumerate(Postcode):\n        if postcode_unique_element == postcode_element:\n            p_var = postcode_element;\n            b_var = Borough[postcode_idx]\n            if n_var == '': \n                n_var = Neighbourhood[postcode_idx]\n            else:\n                n_var = n_var + ', ' + Neighbourhood[postcode_idx]\n    Postcode_u.append(p_var)\n    Borough_u.append(b_var)\n    Neighbourhood_u.append(n_var)", 
            "cell_type": "code", 
            "metadata": {}, 
            "outputs": [], 
            "execution_count": 10
        }, 
        {
            "source": "!pip install geocoder", 
            "cell_type": "code", 
            "metadata": {}, 
            "outputs": [], 
            "execution_count": null
        }, 
        {
            "source": "import geocoder", 
            "cell_type": "code", 
            "metadata": {}, 
            "outputs": [], 
            "execution_count": 12
        }, 
        {
            "source": "latitude = []\nlongitude = []\nfor elem in Postcode_u:\n# initialize your variable to None\n    lat_lng_coords = None\n\n# loop until you get the coordinates\n    while (lat_lng_coords is None):\n        g = geocoder.google('{}, Toronto, Ontario'.format(elem))\n        lat_lng_coords = g.latlng\n        # print(lat_lng_coords)\n\n    latitude.append(lat_lng_coords[0])\n    longitude.append(lat_lng_coords[1])\n    print(elem, 'is RECEIVED.')\n    # print(lat_lng_coords[0])\n    # print(lat_lng_coords[1])", 
            "cell_type": "code", 
            "metadata": {}, 
            "outputs": [], 
            "execution_count": null
        }, 
        {
            "source": "toronto_dict = {'Postcode':Postcode_u, 'Borough':Borough_u, 'Neighbourhood':Neighbourhood_u,\n              'Latitude': latitude, 'Longitude':longitude}\ndf_toronto = pd.DataFrame.from_dict(toronto_dict)\ndf_toronto.to_csv('toronto_base.csv')\ndf_toronto.head(10)", 
            "cell_type": "code", 
            "metadata": {}, 
            "outputs": [], 
            "execution_count": null
        }, 
        {
            "source": "# for the city Toronto, latitude and longtitude are manually extracted via google search\ntoronto_latitude = 43.6932; toronto_longitude = -79.3832\nmap_toronto = folium.Map(location = [toronto_latitude, toronto_longitude], zoom_start = 10.7)\n\n# add markers to map\nfor lat, lng, borough, neighborhood in zip(df_toronto['Latitude'], df_toronto['Longitude'], df_toronto['Borough'], df_toronto['Neighbourhood']):\n    label = '{}, {}'.format(neighborhood, borough)\n    label = folium.Popup(label, parse_html=True)\n    folium.CircleMarker(\n        [lat, lng],\n        radius=5,\n        popup=label,\n        color='blue',\n        fill=True,\n        fill_color='#3186cc',\n        fill_opacity=0.7).add_to(map_toronto)  \n    \n\nmap_toronto", 
            "cell_type": "code", 
            "metadata": {}, 
            "outputs": [], 
            "execution_count": null
        }, 
        {
            "source": "# selecting only neighborhoods regarding to \"Scarborough\" borough.\nscarborough_data = df_toronto[df_toronto['Borough'] == 'Scarborough']\nscarborough_data = scarborough_data.reset_index(drop=True).drop(columns = 'Unnamed: 0')\nscarborough_data.head()", 
            "cell_type": "code", 
            "metadata": {}, 
            "outputs": [], 
            "execution_count": null
        }, 
        {
            "source": "address_scar = 'Scarborough, Toronto'\nlatitude_scar = 43.773077\nlongitude_scar = -79.257774\nprint('The geograpical coordinate of \"Scarborough\" are: {}, {}.'.format(latitude_scar, longitude_scar))\n\nmap_Scarborough = folium.Map(location=[latitude_scar, longitude_scar], zoom_start=11.5)\n\n# add markers to map\nfor lat, lng, label in zip(scarborough_data['Latitude'], scarborough_data['Longitude'], scarborough_data['Neighbourhood']):\n    label = folium.Popup(label, parse_html=True)\n    folium.CircleMarker(\n        [lat, lng],\n        radius = 10,\n        popup = label,\n        color ='blue',\n        fill = True,\n        fill_color = '#3186cc',\n        fill_opacity = 0.7).add_to(map_Scarborough)  \n    \nmap_Scarborough", 
            "cell_type": "code", 
            "metadata": {}, 
            "outputs": [], 
            "execution_count": null
        }, 
        {
            "source": "def foursquare_crawler (postal_code_list, neighborhood_list, lat_list, lng_list, LIMIT = 500, radius = 1000):\n    result_ds = []\n    counter = 0\n    for postal_code, neighborhood, lat, lng in zip(postal_code_list, neighborhood_list, lat_list, lng_list):\n         \n        # create the API request URL\n        url = 'https://api.foursquare.com/v2/venues/explore?&client_id={}&client_secret={}&v={}&ll={},{}&radius={}&limit={}'.format(\n            CLIENT_ID, CLIENT_SECRET, VERSION, \n            lat, lng, radius, LIMIT)\n            \n        # make the GET request\n        results = requests.get(url).json()[\"response\"]['groups'][0]['items']\n        tmp_dict = {}\n        tmp_dict['Postal Code'] = postal_code; tmp_dict['Neighborhood(s)'] = neighborhood; \n        tmp_dict['Latitude'] = lat; tmp_dict['Longitude'] = lng;\n        tmp_dict['Crawling_result'] = results;\n        result_ds.append(tmp_dict)\n        counter += 1\n        print('{}.'.format(counter))\n        print('Data is Obtained, for the Postal Code {} (and Neighborhoods {}) SUCCESSFULLY.'.format(postal_code, neighborhood))\n    return result_ds;", 
            "cell_type": "code", 
            "metadata": {}, 
            "outputs": [], 
            "execution_count": null
        }, 
        {
            "source": "CLIENT_ID = '0MJA3NYYG3U2ZY1LTZN2OYEHS3Y3WVSON2GBSO3IL4EDYVIR' # your Foursquare ID\nCLIENT_SECRET = 'WGWSAF2TKVUQPE3PD0N3EOITFVBY5EYP1VCZI3BMUG0ROUS5' # your Foursquare Secret\nVERSION = '20180605' # Foursquare API version", 
            "cell_type": "code", 
            "metadata": {}, 
            "outputs": [], 
            "execution_count": null
        }, 
        {
            "source": "print('Crawling different neighborhoods inside \"Scarborough\"')\nScarborough_foursquare_dataset = foursquare_crawler(list(scarborough_data['Postcode']),\n                                                   list(scarborough_data['Neighbourhood']),\n                                                   list(scarborough_data['Latitude']),\n                                                   list(scarborough_data['Longitude']),)", 
            "cell_type": "code", 
            "metadata": {}, 
            "outputs": [], 
            "execution_count": null
        }, 
        {
            "source": "import pickle\nwith open(\"Scarborough_foursquare_dataset.txt\", \"wb\") as fp:   #Pickling\n    pickle.dump(Scarborough_foursquare_dataset, fp)\nprint('Received Data from Internet is Saved to Computer.')", 
            "cell_type": "code", 
            "metadata": {}, 
            "outputs": [], 
            "execution_count": null
        }, 
        {
            "source": "with open(\"Scarborough_foursquare_dataset.txt\", \"rb\") as fp:   # Unpickling\n    Scarborough_foursquare_dataset = pickle.load(fp)", 
            "cell_type": "code", 
            "metadata": {}, 
            "outputs": [], 
            "execution_count": null
        }, 
        {
            "source": "def get_venue_dataset(foursquare_dataset):\n    result_df = pd.DataFrame(columns = ['Postal Code', 'Neighborhood', \n                                           'Neighborhood Latitude', 'Neighborhood Longitude',\n                                          'Venue', 'Venue Summary', 'Venue Category', 'Distance'])\n    # print(result_df)\n    \n    for neigh_dict in foursquare_dataset:\n        postal_code = neigh_dict['Postal Code']; neigh = neigh_dict['Neighborhood(s)']\n        lat = neigh_dict['Latitude']; lng = neigh_dict['Longitude']\n        print('Number of Venuse in Coordination \"{}\" Posal Code and \"{}\" Negihborhood(s) is:'.format(postal_code, neigh))\n        print(len(neigh_dict['Crawling_result']))\n        \n        for venue_dict in neigh_dict['Crawling_result']:\n            summary = venue_dict['reasons']['items'][0]['summary']\n            name = venue_dict['venue']['name']\n            dist = venue_dict['venue']['location']['distance']\n            cat =  venue_dict['venue']['categories'][0]['name']\n            \n            \n            # print({'Postal Code': postal_code, 'Neighborhood': neigh, \n            #                   'Neighborhood Latitude': lat, 'Neighborhood Longitude':lng,\n            #                   'Venue': name, 'Venue Summary': summary, \n            #                   'Venue Category': cat, 'Distance': dist})\n            \n            result_df = result_df.append({'Postal Code': postal_code, 'Neighborhood': neigh, \n                              'Neighborhood Latitude': lat, 'Neighborhood Longitude':lng,\n                              'Venue': name, 'Venue Summary': summary, \n                              'Venue Category': cat, 'Distance': dist}, ignore_index = True)\n            # print(result_df)\n    \n    return(result_df)", 
            "cell_type": "code", 
            "metadata": {}, 
            "outputs": [], 
            "execution_count": null
        }, 
        {
            "source": "scarborough_venues = get_venue_dataset(Scarborough_foursquare_dataset)", 
            "cell_type": "code", 
            "metadata": {}, 
            "outputs": [], 
            "execution_count": null
        }, 
        {
            "source": "scarborough_venues.head()", 
            "cell_type": "code", 
            "metadata": {}, 
            "outputs": [], 
            "execution_count": null
        }, 
        {
            "source": "scarborough_venues.tail()", 
            "cell_type": "code", 
            "metadata": {}, 
            "outputs": [], 
            "execution_count": null
        }, 
        {
            "source": "scarborough_venues.to_csv('scarborough_venues.csv')", 
            "cell_type": "code", 
            "metadata": {}, 
            "outputs": [], 
            "execution_count": null
        }, 
        {
            "source": "scarborough_venues = pd.read_csv('scarborough_venues.csv')", 
            "cell_type": "code", 
            "metadata": {}, 
            "outputs": [], 
            "execution_count": null
        }, 
        {
            "source": "neigh_list = list(scarborough_venues['Neighborhood'].unique())\nprint('Number of Neighborhoods inside Scarborough:')\nprint(len(neigh_list))\nprint('List of Neighborhoods inside Scarborough:')\nneigh_list", 
            "cell_type": "code", 
            "metadata": {}, 
            "outputs": [], 
            "execution_count": null
        }, 
        {
            "source": "neigh_venue_summary = scarborough_venues.groupby('Neighborhood').count()\nneigh_venue_summary.drop(columns = ['Unnamed: 0']).head()", 
            "cell_type": "code", 
            "metadata": {}, 
            "outputs": [], 
            "execution_count": null
        }, 
        {
            "source": "print('There are {} uniques categories.'.format(len(scarborough_venues['Venue Category'].unique())))\n\nprint('Here is the list of different categories:')\nlist(scarborough_venues['Venue Category'].unique())", 
            "cell_type": "code", 
            "metadata": {}, 
            "outputs": [], 
            "execution_count": null
        }, 
        {
            "source": "print(type(scarborough_venues[['Venue Category']]))\n\nprint(type(scarborough_venues['Venue Category']))", 
            "cell_type": "code", 
            "metadata": {}, 
            "outputs": [], 
            "execution_count": null
        }, 
        {
            "source": "scarborough_onehot = pd.get_dummies(data = scarborough_venues, drop_first  = False, \n                              prefix = \"\", prefix_sep = \"\", columns = ['Venue Category'])\nscarborough_onehot.head()", 
            "cell_type": "code", 
            "metadata": {}, 
            "outputs": [], 
            "execution_count": null
        }, 
        {
            "source": "important_list_of_features = [\n \n 'Neighborhood',\n 'Neighborhood Latitude',\n 'Neighborhood Longitude',\n\n 'African Restaurant',\n 'American Restaurant',\n 'Asian Restaurant',\n\n \n 'BBQ Joint',\n \n 'Bakery',\n \n \n \n \n \n 'Breakfast Spot',\n\n 'Burger Joint',\n \n \n \n 'Cajun / Creole Restaurant',\n 'Cantonese Restaurant',\n 'Caribbean Restaurant',\n 'Chinese Restaurant',\n \n 'Diner',\n\n\n 'Fast Food Restaurant',\n 'Filipino Restaurant',\n 'Fish Market',\n 'Food & Drink Shop',\n 'Fried Chicken Joint',\n 'Fruit & Vegetable Store',\n \n 'Greek Restaurant',\n 'Grocery Store',\n \n 'Hakka Restaurant',\n \n 'Hong Kong Restaurant',\n\n 'Hotpot Restaurant',\n \n 'Indian Restaurant',\n\n 'Italian Restaurant',\n 'Japanese Restaurant',\n 'Korean Restaurant',\n 'Latin American Restaurant',\n\n\n\n 'Malay Restaurant',\n \n 'Mediterranean Restaurant',\n \n 'Mexican Restaurant',\n 'Middle Eastern Restaurant',\n \n 'Noodle House',\n \n 'Pizza Place',\n \n 'Restaurant',\n 'Sandwich Place',\n 'Seafood Restaurant',\n 'Shanghai Restaurant',\n \n 'Sushi Restaurant',\n 'Taiwanese Restaurant',\n \n 'Thai Restaurant',\n \n 'Vegetarian / Vegan Restaurant',\n \n 'Vietnamese Restaurant',\n 'Wings Joint']", 
            "cell_type": "code", 
            "metadata": {}, 
            "outputs": [], 
            "execution_count": null
        }, 
        {
            "source": "scarborough_onehot = scarborough_onehot[important_list_of_features].drop(\n    columns = ['Neighborhood Latitude', 'Neighborhood Longitude']).groupby(\n    'Neighborhood').sum()\n\n\nscarborough_onehot.head()", 
            "cell_type": "code", 
            "metadata": {}, 
            "outputs": [], 
            "execution_count": null
        }, 
        {
            "source": "\nfeat_name_list = list(scarborough_onehot.columns)\nrestaurant_list = []\n\n\nfor counter, value in enumerate(feat_name_list):\n    if value.find('Restaurant') != (-1):\n        restaurant_list.append(value)\n        \nscarborough_onehot['Total Restaurants'] = scarborough_onehot[restaurant_list].sum(axis = 1)\nscarborough_onehot = scarborough_onehot.drop(columns = restaurant_list)\n\n\nfeat_name_list = list(scarborough_onehot.columns)\njoint_list = []\n\n\nfor counter, value in enumerate(feat_name_list):\n    if value.find('Joint') != (-1):\n        joint_list.append(value)\n        \nscarborough_onehot['Total Joints'] = scarborough_onehot[joint_list].sum(axis = 1)\nscarborough_onehot = scarborough_onehot.drop(columns = joint_list)", 
            "cell_type": "code", 
            "metadata": {}, 
            "outputs": [], 
            "execution_count": null
        }, 
        {
            "source": "scarborough_onehot", 
            "cell_type": "code", 
            "metadata": {}, 
            "outputs": [], 
            "execution_count": null
        }, 
        {
            "source": "### Run k-means to Cluster Neighborhoods into 5 Clusters", 
            "cell_type": "markdown", 
            "metadata": {}
        }, 
        {
            "source": "# import k-means from clustering stage\nfrom sklearn.cluster import KMeans\n\n# run k-means clustering\nkmeans = KMeans(n_clusters = 5, random_state = 0).fit(scarborough_onehot)", 
            "cell_type": "code", 
            "metadata": {}, 
            "outputs": [], 
            "execution_count": null
        }, 
        {
            "source": "means_df = pd.DataFrame(kmeans.cluster_centers_)\nmeans_df.columns = scarborough_onehot.columns\nmeans_df.index = ['G1','G2','G3','G4','G5']\nmeans_df['Total Sum'] = means_df.sum(axis = 1)\nmeans_df.sort_values(axis = 0, by = ['Total Sum'], ascending=False)", 
            "cell_type": "code", 
            "metadata": {}, 
            "outputs": [], 
            "execution_count": null
        }, 
        {
            "source": "### Result", 
            "cell_type": "markdown", 
            "metadata": {}
        }, 
        {
            "source": "Best Group is G5;\nSecond Best Group is G1;\nThird Best Group is G4;\nInserting \"kmeans.labels_\" into the Original Scarborough DataFrame", 
            "cell_type": "markdown", 
            "metadata": {}
        }, 
        {
            "source": "neigh_summary = pd.DataFrame([scar_ds.index, 1 + kmeans.labels_]).T\nneigh_summary.columns = ['Neighborhood', 'Group']\nneigh_summary", 
            "cell_type": "code", 
            "metadata": {}, 
            "outputs": [], 
            "execution_count": null
        }, 
        {
            "source": "neigh_summary[neigh_summary['Group'] == 5]", 
            "cell_type": "code", 
            "metadata": {}, 
            "outputs": [], 
            "execution_count": null
        }, 
        {
            "source": "\nname_of_neigh = list(neigh_summary[neigh_summary['Group'] == 5]['Neighborhood'])[0]\nscarborough_venues[scarborough_venues['Neighborhood'] == name_of_neigh].iloc[0,1:5].to_dict()", 
            "cell_type": "code", 
            "metadata": {}, 
            "outputs": [], 
            "execution_count": null
        }, 
        {
            "source": "### Second Best Neighborhoods", 
            "cell_type": "markdown", 
            "metadata": {}
        }, 
        {
            "source": "neigh_summary[neigh_summary['Group'] == 1]", 
            "cell_type": "code", 
            "metadata": {}, 
            "outputs": [], 
            "execution_count": null
        }, 
        {
            "source": "### Third Best Neighborhood", 
            "cell_type": "markdown", 
            "metadata": {}
        }, 
        {
            "source": "neigh_summary[neigh_summary['Group'] == 4]", 
            "cell_type": "code", 
            "metadata": {}, 
            "outputs": [], 
            "execution_count": null
        }, 
        {
            "source": "name_of_neigh = list(neigh_summary[neigh_summary['Group'] == 4]['Neighborhood'])[0]\nscarborough_venues[scarborough_venues['Neighborhood'] == name_of_neigh].iloc[0,1:5].to_dict()", 
            "cell_type": "code", 
            "metadata": {}, 
            "outputs": [], 
            "execution_count": null
        }, 
        {
            "source": "", 
            "cell_type": "code", 
            "metadata": {}, 
            "outputs": [], 
            "execution_count": null
        }
    ], 
    "metadata": {
        "kernelspec": {
            "display_name": "Python 3.5", 
            "name": "python3", 
            "language": "python"
        }, 
        "language_info": {
            "mimetype": "text/x-python", 
            "nbconvert_exporter": "python", 
            "version": "3.5.5", 
            "name": "python", 
            "pygments_lexer": "ipython3", 
            "file_extension": ".py", 
            "codemirror_mode": {
                "version": 3, 
                "name": "ipython"
            }
        }
    }, 
    "nbformat": 4
}